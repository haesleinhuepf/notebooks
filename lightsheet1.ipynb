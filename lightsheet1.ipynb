{
 "cells": [
  {
   "cell_type": "code",
   "execution_count": 10,
   "metadata": {},
   "outputs": [
    {
     "name": "stdout",
     "output_type": "stream",
     "text": [
      "hello\r\n"
     ]
    },
    {
     "data": {
      "text/plain": [
       "No Outputs"
      ]
     },
     "execution_count": 10,
     "metadata": {},
     "output_type": "execute_result"
    }
   ],
   "source": [
    "#!groovy\n",
    "\n",
    "println(\"hello\")"
   ]
  },
  {
   "cell_type": "code",
   "execution_count": 1,
   "metadata": {},
   "outputs": [
    {
     "name": "stderr",
     "output_type": "stream",
     "text": [
      "Resolving dependency: net.clearcontrol#clearcontrol-lightsheet;1.10.2-EDF {default=[default]}\n",
      "Preparing to download artifact net.clearcontrol#clearcontrol-lightsheet;1.10.2-EDF!clearcontrol-lightsheet.jar\n",
      "Preparing to download artifact junit#junit;4.11!junit.jar\n",
      "Preparing to download artifact net.clearcontrol#ClearControl;0.9.1-RH!ClearControl.jar\n",
      "Preparing to download artifact org.hamcrest#hamcrest-core;1.3!hamcrest-core.jar\n",
      "Preparing to download artifact org.apache.commons#commons-collections4;4.0!commons-collections4.jar\n",
      "Preparing to download artifact commons-io#commons-io;2.4!commons-io.jar\n",
      "Preparing to download artifact org.apache.commons#commons-lang3;3.4!commons-lang3.jar\n",
      "Preparing to download artifact org.apache.commons#commons-math3;3.5!commons-math3.jar\n",
      "Preparing to download artifact org.apache.logging.log4j#log4j-api;2.1!log4j-api.jar\n",
      "Preparing to download artifact org.apache.logging.log4j#log4j-core;2.1!log4j-core.jar\n",
      "Preparing to download artifact com.google.guava#guava;18.0!guava.jar(bundle)\n",
      "Preparing to download artifact net.sf.trove4j#trove4j;3.0.3!trove4j.jar\n",
      "Preparing to download artifact com.fasterxml.jackson.core#jackson-databind;2.6.1!jackson-databind.jar(bundle)\n",
      "Preparing to download artifact org.jscience#jscience;4.3.1!jscience.jar\n",
      "Preparing to download artifact de.mukis#de.mukis.jama;2.0.0.M1!de.mukis.jama.jar(bundle)\n",
      "Preparing to download artifact com.googlecode.efficient-java-matrix-library#ejml;0.25!ejml.jar\n",
      "Preparing to download artifact java3d#vecmath;1.3.1!vecmath.jar\n",
      "Preparing to download artifact net.openhft#compiler;2.1!compiler.jar(bundle)\n",
      "Preparing to download artifact net.openhft#lang;6.3.5!lang.jar(bundle)\n",
      "Preparing to download artifact net.openhft#affinity;2.0.6!affinity.jar(bundle)\n",
      "Preparing to download artifact net.openhft#collections;3.0.2!collections.jar(bundle)\n",
      "Preparing to download artifact net.openhft#chronicle;3.0.1!chronicle.jar(bundle)\n",
      "Preparing to download artifact org.python#jython;2.7-rc2!jython.jar\n",
      "Preparing to download artifact com.fifesoft#rsyntaxtextarea;2.5.6!rsyntaxtextarea.jar\n",
      "Preparing to download artifact org.reflections#reflections;0.9.10!reflections.jar\n",
      "Preparing to download artifact org.codehaus.groovy#groovy-all;2.4.3!groovy-all.jar\n",
      "Preparing to download artifact javax.mail#mail;1.4.7!mail.jar\n",
      "Preparing to download artifact com.seaglasslookandfeel#seaglasslookandfeel;0.1.7.3!seaglasslookandfeel.jar\n",
      "Preparing to download artifact com.jgoodies#looks;2.2.2!looks.jar\n",
      "Preparing to download artifact org.devzendo#Quaqua;7.3.4!Quaqua.jar\n",
      "Preparing to download artifact eu.hansolo.enzo#Enzo;0.3.6!Enzo.jar\n",
      "Preparing to download artifact org.controlsfx#controlsfx;8.40.11!controlsfx.jar\n",
      "Preparing to download artifact de.jensd#fontawesomefx;8.0.10!fontawesomefx.jar\n",
      "Preparing to download artifact com.miglayout#miglayout;3.7.4!miglayout.jar\n",
      "Preparing to download artifact com.github.yannrichet#JMathPlot;1.0.1!JMathPlot.jar\n",
      "Preparing to download artifact net.imglib2#imglib2;2.2.0!imglib2.jar\n",
      "Preparing to download artifact net.imglib2#imglib2-ui;2.0.0-beta-28!imglib2-ui.jar\n",
      "Preparing to download artifact net.imglib2#imglib2-ij;2.0.0-beta-30!imglib2-ij.jar\n",
      "Preparing to download artifact net.imglib2#imglib2-algorithm;0.2.1!imglib2-algorithm.jar\n",
      "Preparing to download artifact com.nativelibs4java#bridj;0.7.0!bridj.jar(bundle)\n",
      "Preparing to download artifact com.nativelibs4java#javacl;1.0.0-RC4!javacl.jar(bundle)\n",
      "Preparing to download artifact org.scream3r#jssc;2.8.0!jssc.jar\n",
      "Preparing to download artifact net.halcyon#halcyon;0.3.8!halcyon.jar\n",
      "Preparing to download artifact net.sqeazy#sqeazy;0.4.2!sqeazy.jar\n",
      "Preparing to download artifact net.clearvolume#clearvolume;1.4.1!clearvolume.jar\n",
      "Preparing to download artifact net.clearvolume#clearaudio;1.0.2!clearaudio.jar\n",
      "Preparing to download artifact net.clearcontrol#simbryo;0.7.3!simbryo.jar\n",
      "Preparing to download artifact net.clearcontrol#fastfuse;0.5.3!fastfuse.jar\n",
      "Preparing to download artifact net.clearcontrol#mirao52j;1.0.1-1-g8a32de1!mirao52j.jar\n",
      "Preparing to download artifact net.clearcontrol#asdkj;1.0.1-1-ga1acd95!asdkj.jar\n",
      "Preparing to download artifact net.clearcontrol#dcamj;2.1.4-1-g0bbea0e!dcamj.jar\n",
      "Preparing to download artifact com.github.sarxos#webcam-capture;0.3.9!webcam-capture.jar(bundle)\n",
      "Preparing to download artifact net.clearcontrol#ecc100j;1.0.1!ecc100j.jar\n",
      "Preparing to download artifact net.clearcontrol#aptj;0.2.3!aptj.jar\n",
      "Preparing to download artifact net.clearcontrol#nirioj;1.0.2-4-g5a9c377!nirioj.jar\n",
      "Preparing to download artifact com.fasterxml.jackson.core#jackson-annotations;2.6.0!jackson-annotations.jar(bundle)\n",
      "Preparing to download artifact com.fasterxml.jackson.core#jackson-core;2.6.1!jackson-core.jar(bundle)\n",
      "Preparing to download artifact org.javolution#javolution;5.2.3!javolution.jar\n",
      "Preparing to download artifact net.java.dev.jna#jna;4.0.0!jna.jar\n",
      "Preparing to download artifact net.java.dev.jna#jna-platform;4.1.0!jna-platform.jar\n",
      "Preparing to download artifact org.kohsuke.jetbrains#annotations;9.0!annotations.jar\n",
      "Preparing to download artifact com.intellij#annotations;12.0!annotations.jar\n",
      "Preparing to download artifact org.javassist#javassist;3.18.2-GA!javassist.jar(bundle)\n",
      "Preparing to download artifact com.google.code.findbugs#annotations;2.0.1!annotations.jar\n",
      "Preparing to download artifact javax.activation#activation;1.1!activation.jar\n",
      "Preparing to download artifact com.github.yannrichet#JMathIO;1.0!JMathIO.jar\n",
      "Preparing to download artifact com.github.yannrichet#JMathArray;1.0!JMathArray.jar\n",
      "Preparing to download artifact gov.nist.math#jama;1.0.3!jama.jar\n",
      "Preparing to download artifact net.imglib2#imglib2-realtransform;2.0.0-beta-28!imglib2-realtransform.jar\n",
      "Preparing to download artifact net.imagej#ij;1.49p!ij.jar\n",
      "Preparing to download artifact net.imagej#imagej-common;0.12.2!imagej-common.jar\n",
      "Preparing to download artifact net.imglib2#imglib2-roi;0.3.0!imglib2-roi.jar\n",
      "Preparing to download artifact org.scijava#scijava-common;2.38.2!scijava-common.jar\n",
      "Preparing to download artifact edu.ucar#udunits;4.3.18!udunits.jar\n",
      "Preparing to download artifact com.googlecode.gentyref#gentyref;1.1.0!gentyref.jar\n",
      "Preparing to download artifact org.bushe#eventbus;1.4!eventbus.jar\n",
      "Preparing to download artifact com.google.android.tools#dx;1.7!dx.jar\n",
      "Preparing to download artifact com.nativelibs4java#javacl-core;1.0.0-RC4!javacl-core.jar\n",
      "Preparing to download artifact com.nativelibs4java#opencl4java;1.0.0-RC4!opencl4java.jar\n",
      "Preparing to download artifact com.nativelibs4java#nativelibs4java-utils;1.6!nativelibs4java-utils.jar\n",
      "Preparing to download artifact commons-collections#commons-collections;3.2.1!commons-collections.jar\n",
      "Preparing to download artifact commons-lang#commons-lang;2.6!commons-lang.jar\n",
      "Preparing to download artifact org.dockfx#DockFX;0.1.12!DockFX.jar\n",
      "Preparing to download artifact args4j#args4j;2.0.29!args4j.jar(bundle)\n",
      "Preparing to download artifact com.apple#AppleJavaExtensions;1.4!AppleJavaExtensions.jar\n",
      "Preparing to download artifact net.clearcontrol#badtrack;0.1.4!badtrack.jar\n",
      "Preparing to download artifact net.clearvolume#clearcl;0.5.2!clearcl.jar\n",
      "Preparing to download artifact net.clearvolume#cleargl;2.1.0!cleargl.jar\n",
      "Preparing to download artifact net.coremem#coremem;0.4.4!coremem.jar\n",
      "Preparing to download artifact org.jocl#jocl;2.0.0!jocl.jar\n",
      "Preparing to download artifact javax.vecmath#vecmath;1.5.2!vecmath.jar\n",
      "Preparing to download artifact ome#bio-formats-tools;5.5.3!bio-formats-tools.jar\n",
      "Preparing to download artifact ome#formats-api;5.5.3!formats-api.jar\n",
      "Preparing to download artifact org.openmicroscopy#ome-xml;5.5.4!ome-xml.jar\n",
      "Preparing to download artifact ome#formats-bsd;5.5.3!formats-bsd.jar\n",
      "Preparing to download artifact org.slf4j#slf4j-api;1.7.6!slf4j-api.jar\n",
      "Preparing to download artifact org.openmicroscopy#ome-common;5.3.1!ome-common.jar\n",
      "Preparing to download artifact joda-time#joda-time;2.2!joda-time.jar\n",
      "Preparing to download artifact com.esotericsoftware.kryo#kryo;2.24.0!kryo.jar(bundle)\n",
      "Preparing to download artifact ch.qos.logback#logback-core;1.1.1!logback-core.jar\n",
      "Preparing to download artifact ch.qos.logback#logback-classic;1.1.1!logback-classic.jar\n"
     ]
    },
    {
     "name": "stderr",
     "output_type": "stream",
     "text": [
      "Preparing to download artifact com.esotericsoftware.minlog#minlog;1.2!minlog.jar\n",
      "Preparing to download artifact org.objenesis#objenesis;2.1!objenesis.jar\n",
      "Preparing to download artifact ome#jai_imageio;5.5.3!jai_imageio.jar\n",
      "Preparing to download artifact org.openmicroscopy#specification;5.5.4!specification.jar\n",
      "Preparing to download artifact ome#turbojpeg;5.5.3!turbojpeg.jar\n",
      "Preparing to download artifact org.scijava#native-lib-loader;2.1.4!native-lib-loader.jar\n",
      "Preparing to download artifact com.jgoodies#jgoodies-forms;1.7.2!jgoodies-forms.jar\n",
      "Preparing to download artifact org.perf4j#perf4j;0.9.13!perf4j.jar\n",
      "Preparing to download artifact com.drewnoakes#metadata-extractor;2.6.2!metadata-extractor.jar\n",
      "Preparing to download artifact com.jgoodies#jgoodies-common;1.7.0!jgoodies-common.jar\n",
      "Preparing to download artifact com.adobe.xmp#xmpcore;5.1.2!xmpcore.jar\n",
      "Preparing to download artifact xerces#xercesImpl;2.8.1!xercesImpl.jar\n",
      "Preparing to download artifact ome#formats-gpl;5.5.3!formats-gpl.jar\n",
      "Preparing to download artifact xalan#serializer;2.7.2!serializer.jar\n",
      "Preparing to download artifact xalan#xalan;2.7.2!xalan.jar\n",
      "Preparing to download artifact xml-apis#xml-apis;1.3.04!xml-apis.jar\n",
      "Preparing to download artifact org.openmicroscopy#ome-mdbtools;5.3.0!ome-mdbtools.jar\n",
      "Preparing to download artifact org.openmicroscopy#metakit;5.3.0!metakit.jar\n",
      "Preparing to download artifact org.openmicroscopy#ome-poi;5.3.1!ome-poi.jar\n",
      "Preparing to download artifact ome#jxrlib-all;0.2.1!jxrlib-all.jar\n",
      "Preparing to download artifact edu.ucar#netcdf;4.3.22!netcdf.jar\n",
      "Preparing to download artifact woolz#JWlz;1.4.0!JWlz.jar\n",
      "Preparing to download artifact ch.systems.cisd#jhdf5;14.12.0!jhdf5.jar\n",
      "Preparing to download artifact commons-logging#commons-logging;1.1.1!commons-logging.jar\n",
      "Preparing to download artifact org.jogamp.gluegen#gluegen-rt;2.3.2!gluegen-rt.jar\n",
      "Preparing to download artifact com.jhlabs#filters;2.0.235-1!filters.jar\n"
     ]
    },
    {
     "name": "stderr",
     "output_type": "stream",
     "text": [
      "java.lang.RuntimeException: Error grabbing Grapes -- [download failed: net.clearcontrol#clearcontrol-lightsheet;1.10.2-EDF!clearcontrol-lightsheet.jar, download failed: junit#junit;4.11!junit.jar, download failed: org.hamcrest#hamcrest-core;1.3!hamcrest-core.jar, download failed: net.clearcontrol#ClearControl;0.9.1-RH!ClearControl.jar, download failed: org.apache.commons#commons-collections4;4.0!commons-collections4.jar, download failed: commons-io#commons-io;2.4!commons-io.jar, download failed: org.apache.commons#commons-lang3;3.4!commons-lang3.jar, download failed: org.apache.commons#commons-math3;3.5!commons-math3.jar, download failed: org.apache.logging.log4j#log4j-api;2.1!log4j-api.jar, download failed: org.apache.logging.log4j#log4j-core;2.1!log4j-core.jar, download failed: com.google.guava#guava;18.0!guava.jar(bundle), download failed: net.sf.trove4j#trove4j;3.0.3!trove4j.jar, download failed: com.fasterxml.jackson.core#jackson-databind;2.6.1!jackson-databind.jar(bundle), download failed: com.fasterxml.jackson.core#jackson-annotations;2.6.0!jackson-annotations.jar(bundle), download failed: com.fasterxml.jackson.core#jackson-core;2.6.1!jackson-core.jar(bundle), download failed: org.jscience#jscience;4.3.1!jscience.jar, download failed: org.javolution#javolution;5.2.3!javolution.jar, download failed: de.mukis#de.mukis.jama;2.0.0.M1!de.mukis.jama.jar(bundle), download failed: com.googlecode.efficient-java-matrix-library#ejml;0.25!ejml.jar, download failed: java3d#vecmath;1.3.1!vecmath.jar, download failed: net.openhft#compiler;2.1!compiler.jar(bundle), download failed: net.openhft#lang;6.3.5!lang.jar(bundle), download failed: net.openhft#affinity;2.0.6!affinity.jar(bundle), download failed: net.java.dev.jna#jna;4.0.0!jna.jar, download failed: net.java.dev.jna#jna-platform;4.1.0!jna-platform.jar, download failed: org.kohsuke.jetbrains#annotations;9.0!annotations.jar, download failed: net.openhft#collections;3.0.2!collections.jar(bundle), download failed: com.intellij#annotations;12.0!annotations.jar, download failed: net.openhft#chronicle;3.0.1!chronicle.jar(bundle), download failed: org.python#jython;2.7-rc2!jython.jar, download failed: com.fifesoft#rsyntaxtextarea;2.5.6!rsyntaxtextarea.jar, download failed: org.reflections#reflections;0.9.10!reflections.jar, download failed: com.google.code.findbugs#annotations;2.0.1!annotations.jar, download failed: org.codehaus.groovy#groovy-all;2.4.3!groovy-all.jar, download failed: javax.mail#mail;1.4.7!mail.jar, download failed: javax.activation#activation;1.1!activation.jar, download failed: com.seaglasslookandfeel#seaglasslookandfeel;0.1.7.3!seaglasslookandfeel.jar, download failed: com.jgoodies#looks;2.2.2!looks.jar, download failed: org.devzendo#Quaqua;7.3.4!Quaqua.jar, download failed: eu.hansolo.enzo#Enzo;0.3.6!Enzo.jar, download failed: org.controlsfx#controlsfx;8.40.11!controlsfx.jar, download failed: de.jensd#fontawesomefx;8.0.10!fontawesomefx.jar, download failed: com.miglayout#miglayout;3.7.4!miglayout.jar, download failed: com.github.yannrichet#JMathPlot;1.0.1!JMathPlot.jar, download failed: com.github.yannrichet#JMathIO;1.0!JMathIO.jar, download failed: com.github.yannrichet#JMathArray;1.0!JMathArray.jar, download failed: gov.nist.math#jama;1.0.3!jama.jar, download failed: net.imglib2#imglib2;2.2.0!imglib2.jar, download failed: net.imglib2#imglib2-ui;2.0.0-beta-28!imglib2-ui.jar, download failed: net.imglib2#imglib2-realtransform;2.0.0-beta-28!imglib2-realtransform.jar, download failed: net.imglib2#imglib2-ij;2.0.0-beta-30!imglib2-ij.jar, download failed: net.imagej#ij;1.49p!ij.jar, download failed: net.imagej#imagej-common;0.12.2!imagej-common.jar, download failed: net.imglib2#imglib2-roi;0.3.0!imglib2-roi.jar, download failed: com.googlecode.gentyref#gentyref;1.1.0!gentyref.jar, download failed: org.bushe#eventbus;1.4!eventbus.jar, download failed: edu.ucar#udunits;4.3.18!udunits.jar, download failed: net.imglib2#imglib2-algorithm;0.2.1!imglib2-algorithm.jar, download failed: com.nativelibs4java#bridj;0.7.0!bridj.jar(bundle), download failed: com.google.android.tools#dx;1.7!dx.jar, download failed: com.nativelibs4java#javacl;1.0.0-RC4!javacl.jar(bundle), download failed: com.nativelibs4java#javacl-core;1.0.0-RC4!javacl-core.jar, download failed: com.nativelibs4java#opencl4java;1.0.0-RC4!opencl4java.jar, download failed: com.nativelibs4java#nativelibs4java-utils;1.6!nativelibs4java-utils.jar, download failed: org.scream3r#jssc;2.8.0!jssc.jar, download failed: net.halcyon#halcyon;0.3.8!halcyon.jar, download failed: commons-collections#commons-collections;3.2.1!commons-collections.jar, download failed: commons-lang#commons-lang;2.6!commons-lang.jar, download failed: org.dockfx#DockFX;0.1.12!DockFX.jar, download failed: net.sqeazy#sqeazy;0.4.2!sqeazy.jar, download failed: net.clearvolume#clearvolume;1.4.1!clearvolume.jar, download failed: args4j#args4j;2.0.29!args4j.jar(bundle), download failed: com.apple#AppleJavaExtensions;1.4!AppleJavaExtensions.jar, download failed: net.clearcontrol#badtrack;0.1.4!badtrack.jar, download failed: net.clearvolume#clearcl;0.5.2!clearcl.jar, download failed: net.coremem#coremem;0.4.4!coremem.jar, download failed: org.jocl#jocl;2.0.0!jocl.jar, download failed: javax.vecmath#vecmath;1.5.2!vecmath.jar, download failed: ome#bio-formats-tools;5.5.3!bio-formats-tools.jar, download failed: ome#formats-api;5.5.3!formats-api.jar, download failed: org.openmicroscopy#ome-xml;5.5.4!ome-xml.jar, download failed: org.openmicroscopy#ome-common;5.3.1!ome-common.jar, download failed: com.esotericsoftware.kryo#kryo;2.24.0!kryo.jar(bundle), download failed: com.esotericsoftware.minlog#minlog;1.2!minlog.jar, download failed: org.objenesis#objenesis;2.1!objenesis.jar, download failed: joda-time#joda-time;2.2!joda-time.jar, download failed: org.slf4j#slf4j-api;1.7.6!slf4j-api.jar, download failed: ch.qos.logback#logback-core;1.1.1!logback-core.jar, download failed: ch.qos.logback#logback-classic;1.1.1!logback-classic.jar, download failed: ome#formats-bsd;5.5.3!formats-bsd.jar, download failed: ome#jai_imageio;5.5.3!jai_imageio.jar, download failed: org.openmicroscopy#specification;5.5.4!specification.jar, download failed: ome#turbojpeg;5.5.3!turbojpeg.jar, download failed: org.scijava#native-lib-loader;2.1.4!native-lib-loader.jar, download failed: com.jgoodies#jgoodies-forms;1.7.2!jgoodies-forms.jar, download failed: com.jgoodies#jgoodies-common;1.7.0!jgoodies-common.jar, download failed: org.perf4j#perf4j;0.9.13!perf4j.jar, download failed: com.drewnoakes#metadata-extractor;2.6.2!metadata-extractor.jar, download failed: com.adobe.xmp#xmpcore;5.1.2!xmpcore.jar, download failed: xerces#xercesImpl;2.8.1!xercesImpl.jar, download failed: xalan#serializer;2.7.2!serializer.jar, download failed: xml-apis#xml-apis;1.3.04!xml-apis.jar, download failed: xalan#xalan;2.7.2!xalan.jar, download failed: ome#formats-gpl;5.5.3!formats-gpl.jar, download failed: org.openmicroscopy#ome-mdbtools;5.3.0!ome-mdbtools.jar, download failed: org.openmicroscopy#metakit;5.3.0!metakit.jar, download failed: org.openmicroscopy#ome-poi;5.3.1!ome-poi.jar, download failed: commons-logging#commons-logging;1.1.1!commons-logging.jar, download failed: ome#jxrlib-all;0.2.1!jxrlib-all.jar, download failed: edu.ucar#netcdf;4.3.22!netcdf.jar, download failed: woolz#JWlz;1.4.0!JWlz.jar, download failed: ch.systems.cisd#jhdf5;14.12.0!jhdf5.jar, download failed: net.clearvolume#clearaudio;1.0.2!clearaudio.jar, download failed: net.clearvolume#cleargl;2.1.0!cleargl.jar, download failed: org.jogamp.gluegen#gluegen-rt;2.3.2!gluegen-rt.jar, download failed: net.clearcontrol#simbryo;0.7.3!simbryo.jar, download failed: net.clearcontrol#mirao52j;1.0.1-1-g8a32de1!mirao52j.jar]\n",
      "\tat sun.reflect.NativeConstructorAccessorImpl.newInstance0(Native Method)\n",
      "\tat sun.reflect.NativeConstructorAccessorImpl.newInstance(NativeConstructorAccessorImpl.java:62)\n",
      "\tat sun.reflect.DelegatingConstructorAccessorImpl.newInstance(DelegatingConstructorAccessorImpl.java:45)\n",
      "\tat java.lang.reflect.Constructor.newInstance(Constructor.java:423)\n",
      "\tat org.codehaus.groovy.reflection.CachedConstructor.invoke(CachedConstructor.java:83)\n"
     ]
    },
    {
     "name": "stderr",
     "output_type": "stream",
     "text": [
      "\tat org.codehaus.groovy.reflection.CachedConstructor.doConstructorInvoke(CachedConstructor.java:77)\n",
      "\tat org.codehaus.groovy.runtime.callsite.ConstructorSite$ConstructorSiteNoUnwrap.callConstructor(ConstructorSite.java:84)\n",
      "\tat org.codehaus.groovy.runtime.callsite.CallSiteArray.defaultCallConstructor(CallSiteArray.java:60)\n",
      "\tat org.codehaus.groovy.runtime.callsite.AbstractCallSite.callConstructor(AbstractCallSite.java:235)\n",
      "\tat org.codehaus.groovy.runtime.callsite.AbstractCallSite.callConstructor(AbstractCallSite.java:247)\n",
      "\tat groovy.grape.GrapeIvy.getDependencies(GrapeIvy.groovy:424)\n",
      "\tat sun.reflect.NativeMethodAccessorImpl.invoke0(Native Method)\n",
      "\tat sun.reflect.NativeMethodAccessorImpl.invoke(NativeMethodAccessorImpl.java:62)\n",
      "\tat sun.reflect.DelegatingMethodAccessorImpl.invoke(DelegatingMethodAccessorImpl.java:43)\n",
      "\tat java.lang.reflect.Method.invoke(Method.java:498)\n",
      "\tat org.codehaus.groovy.runtime.callsite.PogoMetaMethodSite$PogoCachedMethodSite.invoke(PogoMetaMethodSite.java:169)\n",
      "\tat org.codehaus.groovy.runtime.callsite.PogoMetaMethodSite.callCurrent(PogoMetaMethodSite.java:59)\n",
      "\tat org.codehaus.groovy.runtime.callsite.CallSiteArray.defaultCallCurrent(CallSiteArray.java:52)\n",
      "\tat org.codehaus.groovy.runtime.callsite.AbstractCallSite.callCurrent(AbstractCallSite.java:154)\n",
      "\tat groovy.grape.GrapeIvy.resolve(GrapeIvy.groovy:571)\n",
      "\tat groovy.grape.GrapeIvy$resolve$0.callCurrent(Unknown Source)\n",
      "\tat org.codehaus.groovy.runtime.callsite.CallSiteArray.defaultCallCurrent(CallSiteArray.java:52)\n",
      "\tat org.codehaus.groovy.runtime.callsite.AbstractCallSite.callCurrent(AbstractCallSite.java:154)\n",
      "\tat org.codehaus.groovy.runtime.callsite.AbstractCallSite.callCurrent(AbstractCallSite.java:190)\n",
      "\tat groovy.grape.GrapeIvy.resolve(GrapeIvy.groovy:538)\n",
      "\tat groovy.grape.GrapeIvy$resolve.callCurrent(Unknown Source)\n",
      "\tat org.codehaus.groovy.runtime.callsite.CallSiteArray.defaultCallCurrent(CallSiteArray.java:52)\n",
      "\tat org.codehaus.groovy.runtime.callsite.AbstractCallSite.callCurrent(AbstractCallSite.java:154)\n",
      "\tat org.codehaus.groovy.runtime.callsite.AbstractCallSite.callCurrent(AbstractCallSite.java:182)\n",
      "\tat groovy.grape.GrapeIvy.grab(GrapeIvy.groovy:256)\n",
      "\tat sun.reflect.NativeMethodAccessorImpl.invoke0(Native Method)\n",
      "\tat sun.reflect.NativeMethodAccessorImpl.invoke(NativeMethodAccessorImpl.java:62)\n",
      "\tat sun.reflect.DelegatingMethodAccessorImpl.invoke(DelegatingMethodAccessorImpl.java:43)\n",
      "\tat java.lang.reflect.Method.invoke(Method.java:498)\n",
      "\tat org.codehaus.groovy.runtime.callsite.PogoMetaMethodSite$PogoCachedMethodSite.invoke(PogoMetaMethodSite.java:169)\n",
      "\tat org.codehaus.groovy.runtime.callsite.PogoMetaMethodSite.callCurrent(PogoMetaMethodSite.java:59)\n",
      "\tat org.codehaus.groovy.runtime.callsite.CallSiteArray.defaultCallCurrent(CallSiteArray.java:52)\n",
      "\tat org.codehaus.groovy.runtime.callsite.AbstractCallSite.callCurrent(AbstractCallSite.java:154)\n",
      "\tat org.codehaus.groovy.runtime.callsite.AbstractCallSite.callCurrent(AbstractCallSite.java:174)\n",
      "\tat groovy.grape.GrapeIvy.grab(GrapeIvy.groovy:237)\n",
      "\tat org.scijava.grab.DefaultGrabService.grab(DefaultGrabService.java:146)\n",
      "\tat org.scijava.grab.script.process.GrabScriptProcessor$1.invoke(GrabScriptProcessor.java:115)\n",
      "\tat org.scijava.script.ScriptModule.run(ScriptModule.java:155)\n",
      "\tat org.scijava.module.ModuleRunner.run(ModuleRunner.java:167)\n",
      "\tat org.scijava.jupyter.kernel.evaluator.Worker.run(Worker.java:109)\n",
      "\tat org.scijava.thread.DefaultThreadService$2.run(DefaultThreadService.java:220)\n",
      "\tat java.util.concurrent.Executors$RunnableAdapter.call(Executors.java:511)\n",
      "\tat java.util.concurrent.FutureTask.run(FutureTask.java:266)\n",
      "\tat java.util.concurrent.ThreadPoolExecutor.runWorker(ThreadPoolExecutor.java:1142)\n",
      "\tat java.util.concurrent.ThreadPoolExecutor$Worker.run(ThreadPoolExecutor.java:617)\n",
      "\tat java.lang.Thread.run(Thread.java:745)\n"
     ]
    },
    {
     "data": {
      "text/plain": [
       "No Outputs"
      ]
     },
     "execution_count": 1,
     "metadata": {},
     "output_type": "execute_result"
    }
   ],
   "source": [
    "#@repository(\"C:/Users/Rober/.m2/repository\")\n",
    "#@dependency(group=\"net.clearcontrol\", module=\"clearcontrol-lightsheet\", version=\"1.10.2-EDF\")\n",
    "\n",
    "print(\"Hello\")\n"
   ]
  },
  {
   "cell_type": "code",
   "execution_count": null,
   "metadata": {
    "collapsed": true
   },
   "outputs": [],
   "source": [
    "import clearcontrol.microscope.lightsheet.demo.LightSheetMicroscopeDemo\n",
    "\n",
    "new LightSheetMicroscopeDemo().start()"
   ]
  },
  {
   "cell_type": "code",
   "execution_count": null,
   "metadata": {
    "collapsed": true
   },
   "outputs": [],
   "source": []
  },
  {
   "cell_type": "code",
   "execution_count": null,
   "metadata": {
    "collapsed": true
   },
   "outputs": [],
   "source": []
  },
  {
   "cell_type": "code",
   "execution_count": null,
   "metadata": {
    "collapsed": true
   },
   "outputs": [],
   "source": []
  },
  {
   "cell_type": "code",
   "execution_count": null,
   "metadata": {
    "collapsed": true
   },
   "outputs": [],
   "source": []
  },
  {
   "cell_type": "code",
   "execution_count": null,
   "metadata": {
    "collapsed": true
   },
   "outputs": [],
   "source": []
  },
  {
   "cell_type": "code",
   "execution_count": null,
   "metadata": {
    "collapsed": true
   },
   "outputs": [],
   "source": []
  }
 ],
 "metadata": {
  "kernelspec": {
   "display_name": "SciJava",
   "language": "groovy",
   "name": "scijava"
  },
  "language_info": {
   "codemirror_mode": "groovy",
   "file_extension": "",
   "mimetype": "",
   "name": "scijava",
   "nbconverter_exporter": "",
   "pygments_lexer": "groovy",
   "version": "1.0"
  }
 },
 "nbformat": 4,
 "nbformat_minor": 2
}
